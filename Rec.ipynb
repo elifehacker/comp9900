{
 "cells": [
  {
   "cell_type": "code",
   "execution_count": 1,
   "metadata": {},
   "outputs": [],
   "source": [
    "#!pip install scikit-surprise"
   ]
  },
  {
   "cell_type": "code",
   "execution_count": 1,
   "metadata": {},
   "outputs": [
    {
     "name": "stderr",
     "output_type": "stream",
     "text": [
      "C:\\Tools\\Anaconda3\\lib\\site-packages\\IPython\\core\\interactiveshell.py:3072: DtypeWarning: Columns (10) have mixed types.Specify dtype option on import or set low_memory=False.\n",
      "  interactivity=interactivity, compiler=compiler, result=result)\n"
     ]
    }
   ],
   "source": [
    "import os\n",
    "from surprise import SVD\n",
    "from surprise import SVDpp\n",
    "from surprise import Dataset\n",
    "from surprise import accuracy\n",
    "from surprise.model_selection import train_test_split\n",
    "from surprise import KNNBasic\n",
    "from surprise import BaselineOnly\n",
    "from surprise import Reader\n",
    "from surprise.model_selection import KFold\n",
    "from surprise.model_selection import cross_validate\n",
    "from surprise.model_selection import GridSearchCV\n",
    "import pandas as pd\n",
    "\n",
    "file_path = os.path.expanduser('ratings_small.csv')\n",
    "movie_path = \"movies_metadata.csv\"\n",
    "# friend_path = \"friends.csv\"\n",
    "\n",
    "reader = Reader(line_format='user item rating timestamp', sep=',',skip_lines=1)\n",
    "surprise_data = Dataset.load_from_file(file_path, reader=reader)\n",
    "\n",
    "#Quantity of the recommond results\n",
    "top_k = 5\n",
    "\n",
    "movies_df = pd.read_csv(movie_path)"
   ]
  },
  {
   "cell_type": "code",
   "execution_count": 2,
   "metadata": {},
   "outputs": [
    {
     "name": "stdout",
     "output_type": "stream",
     "text": [
      "Computing the msd similarity matrix...\n",
      "Done computing similarity matrix.\n"
     ]
    },
    {
     "data": {
      "text/plain": [
       "['12', '25', '53', '57', '96']"
      ]
     },
     "execution_count": 2,
     "metadata": {},
     "output_type": "execute_result"
    }
   ],
   "source": [
    "# get similar users\n",
    "def getSimilarUsers(top_k,u_id):\n",
    "    all_trainset = surprise_data.build_full_trainset()\n",
    "    algo = KNNBasic(k=40,min_k=3,sim_options={'user_based': True}) # sim_options={'name': 'cosine','user_based': True} cosine/msd/pearson/pearson_baseline\n",
    "    algo.fit(all_trainset)\n",
    "    user_inner_id = algo.trainset.to_inner_uid(u_id)\n",
    "    user_neighbors = algo.get_neighbors(user_inner_id, k=top_k)\n",
    "    user_neighbors = (algo.trainset.to_raw_uid(inner_id) for inner_id in user_neighbors)\n",
    "    return user_neighbors\n",
    "list(getSimilarUsers(5,'47'))"
   ]
  },
  {
   "cell_type": "code",
   "execution_count": 3,
   "metadata": {},
   "outputs": [
    {
     "name": "stdout",
     "output_type": "stream",
     "text": [
      "Computing the msd similarity matrix...\n",
      "Done computing similarity matrix.\n"
     ]
    },
    {
     "data": {
      "text/plain": [
       "['1339', '370', '552', '1378', '2174']"
      ]
     },
     "execution_count": 3,
     "metadata": {},
     "output_type": "execute_result"
    }
   ],
   "source": [
    "# get similar movies\n",
    "def getSimilarItems(top_k,item_id):\n",
    "    all_trainset = surprise_data.build_full_trainset()\n",
    "    item_algo = KNNBasic(k=40,min_k=3,sim_options={'user_based': False}) # sim_options={'name': 'cosine','user_based': True} cosine/msd/pearson/pearson_baseline\n",
    "    item_algo.fit(all_trainset)\n",
    "    item_inner_id = item_algo.trainset.to_inner_iid(item_id)\n",
    "    item_neighbors = item_algo.get_neighbors(item_inner_id, k=top_k)\n",
    "    f_item_neighbors = (item_algo.trainset.to_raw_iid(inner_id)\n",
    "                       for inner_id in item_neighbors)\n",
    "    return f_item_neighbors\n",
    "list(getSimilarItems(5,'710'))"
   ]
  },
  {
   "cell_type": "code",
   "execution_count": 4,
   "metadata": {},
   "outputs": [
    {
     "name": "stdout",
     "output_type": "stream",
     "text": [
      "Computing the msd similarity matrix...\n",
      "Done computing similarity matrix.\n"
     ]
    },
    {
     "data": {
      "text/plain": [
       "['84236', '2903', '6598', '81158', '3865']"
      ]
     },
     "execution_count": 4,
     "metadata": {},
     "output_type": "execute_result"
    }
   ],
   "source": [
    "list(getSimilarItems(5,'110'))"
   ]
  },
  {
   "cell_type": "code",
   "execution_count": 18,
   "metadata": {},
   "outputs": [],
   "source": [
    "def getMoviesFromList(movieList):\n",
    "    movies = []\n",
    "    for movie in movieList:\n",
    "        print(movies)\n",
    "        for i in range(len(movies_df)):\n",
    "            if movies_df['id'][i] == movie:\n",
    "                movies.append(movies_df['title'][i])\n",
    "                if movie not in movies_df['id']:\n",
    "                    movies.append(\"Movie ID\"+movies_df['id'][i]+\"(currently unavailable)\")\n",
    "                \n",
    "    return movies"
   ]
  },
  {
   "cell_type": "code",
   "execution_count": 19,
   "metadata": {},
   "outputs": [
    {
     "name": "stdout",
     "output_type": "stream",
     "text": [
      "Computing the msd similarity matrix...\n",
      "Done computing similarity matrix.\n",
      "['1339', '370', '552', '1378', '2174']\n",
      "[]\n",
      "[]\n",
      "[]\n",
      "['Bread and Tulips', 'Movie ID552(currently unavailable)']\n",
      "['Bread and Tulips', 'Movie ID552(currently unavailable)', 'Shortbus', 'Movie ID1378(currently unavailable)']\n"
     ]
    },
    {
     "data": {
      "text/plain": [
       "['Bread and Tulips',\n",
       " 'Movie ID552(currently unavailable)',\n",
       " 'Shortbus',\n",
       " 'Movie ID1378(currently unavailable)']"
      ]
     },
     "execution_count": 19,
     "metadata": {},
     "output_type": "execute_result"
    }
   ],
   "source": [
    "def getMoviesFromTitle(title):\n",
    "    #get movie ID or report error\n",
    "    movies = []\n",
    "    for i in range(len(movies_df)):\n",
    "        if str(movies_df['title'][i]) == str(title):\n",
    "            moviesList = list(getSimilarItems(top_k,movies_df['id'][i]))\n",
    "            break\n",
    "        elif i==len(movies_df)-1:\n",
    "            return print(\"Couldn't find the movie, Please try again.\")\n",
    "    print(moviesList)\n",
    "    return getMoviesFromList(moviesList)\n",
    "    \n",
    "\n",
    "getMoviesFromTitle(\"GoldenEye\")\n"
   ]
  },
  {
   "cell_type": "code",
   "execution_count": 21,
   "metadata": {},
   "outputs": [
    {
     "name": "stdout",
     "output_type": "stream",
     "text": [
      "111\n",
      "Computing the msd similarity matrix...\n",
      "Done computing similarity matrix.\n",
      "['27369', '2046', '26', '1859', '3320']\n",
      "[]\n",
      "[]\n",
      "['The Gift', 'Movie ID2046(currently unavailable)']\n",
      "['The Gift', 'Movie ID2046(currently unavailable)', 'Walk on Water', 'Movie ID26(currently unavailable)']\n",
      "['The Gift', 'Movie ID2046(currently unavailable)', 'Walk on Water', 'Movie ID26(currently unavailable)', 'Ninotchka', 'Movie ID1859(currently unavailable)']\n"
     ]
    },
    {
     "data": {
      "text/plain": [
       "['The Gift',\n",
       " 'Movie ID2046(currently unavailable)',\n",
       " 'Walk on Water',\n",
       " 'Movie ID26(currently unavailable)',\n",
       " 'Ninotchka',\n",
       " 'Movie ID1859(currently unavailable)']"
      ]
     },
     "execution_count": 21,
     "metadata": {},
     "output_type": "execute_result"
    }
   ],
   "source": [
    "def getMoviesFromUser(userID):\n",
    "    user_df = pd.read_csv('ratings_small.csv')\n",
    "    maxRate = 0\n",
    "    for i in range(len(user_df)):\n",
    "        if (str(user_df['userId'][i]) == str(userID)) and (float(user_df['rating'][i]) > maxRate):\n",
    "            maxRate = user_df['rating'][i]\n",
    "            likedID = user_df['movieId'][i]\n",
    "\n",
    "    recList = list(getSimilarItems(top_k,str(likedID)))\n",
    "    return getMoviesFromList(recList)\n",
    "\n",
    "getMoviesFromUser('23')"
   ]
  },
  {
   "cell_type": "code",
   "execution_count": null,
   "metadata": {},
   "outputs": [],
   "source": []
  }
 ],
 "metadata": {
  "kernelspec": {
   "display_name": "Python 3",
   "language": "python",
   "name": "python3"
  },
  "language_info": {
   "codemirror_mode": {
    "name": "ipython",
    "version": 3
   },
   "file_extension": ".py",
   "mimetype": "text/x-python",
   "name": "python",
   "nbconvert_exporter": "python",
   "pygments_lexer": "ipython3",
   "version": "3.7.7"
  }
 },
 "nbformat": 4,
 "nbformat_minor": 4
}

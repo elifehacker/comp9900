{
 "cells": [
  {
   "cell_type": "markdown",
   "metadata": {},
   "source": [
    "# Process Handbook"
   ]
  },
  {
   "cell_type": "markdown",
   "metadata": {},
   "source": [
    "This notebook processes the example handbook (CAHRC_HR_Manual.txt).  This is done in a simple fashion using the following heuristic: If a line of text consisting of less than 5 words is followed by paragraphs of text the assume the line of text with less than 5 words is a topic (i.e. the topic of a question an employee might ask) and that the paragraphs of text are the answer to that question (called action_text for the lack of a better term).\n",
    "\n",
    "When a topic and action_text are found these are stored in Cloud Datastore as a key-value pair with the topic as the key and the action_text as the value."
   ]
  },
  {
   "cell_type": "code",
   "execution_count": 1,
   "metadata": {},
   "outputs": [
    {
     "name": "stdout",
     "output_type": "stream",
     "text": [
      "\u001b[33mSkipping google-cloud-datastore as it is not installed.\u001b[0m\r\n"
     ]
    }
   ],
   "source": [
    "!pip uninstall -y google-cloud-datastore"
   ]
  },
  {
   "cell_type": "code",
   "execution_count": 2,
   "metadata": {},
   "outputs": [
    {
     "name": "stdout",
     "output_type": "stream",
     "text": [
      "Collecting google-cloud-datastore\n",
      "\u001b[?25l  Downloading https://files.pythonhosted.org/packages/b8/6c/bedcab39e8dc969f7a48d058dbacd69fc07ce3f817a03de875902016f667/google_cloud_datastore-1.15.3-py2.py3-none-any.whl (134kB)\n",
      "\u001b[K    100% |████████████████████████████████| 143kB 11.1MB/s ta 0:00:01\n",
      "\u001b[?25hCollecting google-cloud-core<2.0dev,>=1.4.0 (from google-cloud-datastore)\n",
      "  Downloading https://files.pythonhosted.org/packages/ad/fc/6e8c449185cb8862af353c1164100ff75e32d55ba1de3baf9eaa01b7d2a9/google_cloud_core-1.6.0-py2.py3-none-any.whl\n",
      "Requirement already satisfied: google-api-core[grpc]<2.0.0dev,>=1.14.0 in /usr/local/envs/py2env/lib/python2.7/site-packages (from google-cloud-datastore) (1.22.2)\n",
      "Collecting six>=1.12.0 (from google-cloud-core<2.0dev,>=1.4.0->google-cloud-datastore)\n",
      "  Downloading https://files.pythonhosted.org/packages/ee/ff/48bde5c0f013094d729fe4b0316ba2a24774b3ff1c52d924a8a4cb04078a/six-1.15.0-py2.py3-none-any.whl\n",
      "Collecting google-auth<2.0dev,>=1.24.0 (from google-cloud-core<2.0dev,>=1.4.0->google-cloud-datastore)\n",
      "\u001b[?25l  Downloading https://files.pythonhosted.org/packages/0b/2f/1aa41b81d8ed16c22c02dbc7a1c9890dc81f826958063d7e2ae16f475a5e/google_auth-1.27.1-py2.py3-none-any.whl (136kB)\n",
      "\u001b[K    100% |████████████████████████████████| 143kB 16.1MB/s ta 0:00:01\n",
      "\u001b[?25hRequirement already satisfied: googleapis-common-protos<2.0dev,>=1.6.0 in /usr/local/envs/py2env/lib/python2.7/site-packages (from google-api-core[grpc]<2.0.0dev,>=1.14.0->google-cloud-datastore) (1.6.0)\n",
      "Requirement already satisfied: protobuf>=3.12.0 in /usr/local/envs/py2env/lib/python2.7/site-packages (from google-api-core[grpc]<2.0.0dev,>=1.14.0->google-cloud-datastore) (3.13.0)\n",
      "Requirement already satisfied: futures>=3.2.0; python_version < \"3.2\" in /usr/local/envs/py2env/lib/python2.7/site-packages (from google-api-core[grpc]<2.0.0dev,>=1.14.0->google-cloud-datastore) (3.2.0)\n",
      "Requirement already satisfied: pytz in /usr/local/envs/py2env/lib/python2.7/site-packages (from google-api-core[grpc]<2.0.0dev,>=1.14.0->google-cloud-datastore) (2018.4)\n",
      "Requirement already satisfied: setuptools>=34.0.0 in /usr/local/envs/py2env/lib/python2.7/site-packages (from google-api-core[grpc]<2.0.0dev,>=1.14.0->google-cloud-datastore) (44.0.0.post20200106)\n",
      "Requirement already satisfied: requests<3.0.0dev,>=2.18.0 in /usr/local/envs/py2env/lib/python2.7/site-packages (from google-api-core[grpc]<2.0.0dev,>=1.14.0->google-cloud-datastore) (2.18.4)\n",
      "Requirement already satisfied: grpcio<2.0dev,>=1.29.0; extra == \"grpc\" in /usr/local/envs/py2env/lib/python2.7/site-packages (from google-api-core[grpc]<2.0.0dev,>=1.14.0->google-cloud-datastore) (1.31.0)\n",
      "Requirement already satisfied: pyasn1-modules>=0.2.1 in /usr/local/envs/py2env/lib/python2.7/site-packages (from google-auth<2.0dev,>=1.24.0->google-cloud-core<2.0dev,>=1.4.0->google-cloud-datastore) (0.2.7)\n",
      "Requirement already satisfied: cachetools<5.0,>=2.0.0 in /usr/local/envs/py2env/lib/python2.7/site-packages (from google-auth<2.0dev,>=1.24.0->google-cloud-core<2.0dev,>=1.4.0->google-cloud-datastore) (3.1.1)\n",
      "Requirement already satisfied: rsa<4.6; python_version < \"3.6\" in /usr/local/envs/py2env/lib/python2.7/site-packages (from google-auth<2.0dev,>=1.24.0->google-cloud-core<2.0dev,>=1.4.0->google-cloud-datastore) (4.0)\n",
      "Requirement already satisfied: chardet<3.1.0,>=3.0.2 in /usr/local/envs/py2env/lib/python2.7/site-packages (from requests<3.0.0dev,>=2.18.0->google-api-core[grpc]<2.0.0dev,>=1.14.0->google-cloud-datastore) (3.0.4)\n",
      "Requirement already satisfied: idna<2.7,>=2.5 in /usr/local/envs/py2env/lib/python2.7/site-packages (from requests<3.0.0dev,>=2.18.0->google-api-core[grpc]<2.0.0dev,>=1.14.0->google-cloud-datastore) (2.6)\n",
      "Requirement already satisfied: urllib3<1.23,>=1.21.1 in /usr/local/envs/py2env/lib/python2.7/site-packages (from requests<3.0.0dev,>=2.18.0->google-api-core[grpc]<2.0.0dev,>=1.14.0->google-cloud-datastore) (1.22)\n",
      "Requirement already satisfied: certifi>=2017.4.17 in /usr/local/envs/py2env/lib/python2.7/site-packages (from requests<3.0.0dev,>=2.18.0->google-api-core[grpc]<2.0.0dev,>=1.14.0->google-cloud-datastore) (2019.11.28)\n",
      "Requirement already satisfied: enum34>=1.0.4 in /usr/local/envs/py2env/lib/python2.7/site-packages (from grpcio<2.0dev,>=1.29.0; extra == \"grpc\"->google-api-core[grpc]<2.0.0dev,>=1.14.0->google-cloud-datastore) (1.1.6)\n",
      "Requirement already satisfied: pyasn1<0.5.0,>=0.4.6 in /usr/local/envs/py2env/lib/python2.7/site-packages (from pyasn1-modules>=0.2.1->google-auth<2.0dev,>=1.24.0->google-cloud-core<2.0dev,>=1.4.0->google-cloud-datastore) (0.4.8)\n",
      "\u001b[31mpandas-gbq 0.3.0 has requirement google-cloud-bigquery>=0.28.0, but you'll have google-cloud-bigquery 0.23.0 which is incompatible.\u001b[0m\n",
      "\u001b[31mgoogle-cloud-bigquery 0.23.0 has requirement google-cloud-core<0.24dev,>=0.23.1, but you'll have google-cloud-core 1.6.0 which is incompatible.\u001b[0m\n",
      "\u001b[31mtensorboard 1.8.0 has requirement bleach==1.5.0, but you'll have bleach 2.1.2 which is incompatible.\u001b[0m\n",
      "\u001b[31mtensorboard 1.8.0 has requirement html5lib==0.9999999, but you'll have html5lib 1.1 which is incompatible.\u001b[0m\n",
      "Installing collected packages: six, google-auth, google-cloud-core, google-cloud-datastore\n",
      "  Found existing installation: six 1.10.0\n",
      "    Uninstalling six-1.10.0:\n",
      "      Successfully uninstalled six-1.10.0\n",
      "  Found existing installation: google-auth 1.21.1\n",
      "    Uninstalling google-auth-1.21.1:\n",
      "      Successfully uninstalled google-auth-1.21.1\n",
      "  Found existing installation: google-cloud-core 0.28.1\n",
      "    Uninstalling google-cloud-core-0.28.1:\n",
      "      Successfully uninstalled google-cloud-core-0.28.1\n",
      "Successfully installed google-auth-1.27.1 google-cloud-core-1.6.0 google-cloud-datastore-1.15.3 six-1.15.0\n"
     ]
    }
   ],
   "source": [
    "!pip install google-cloud-datastore"
   ]
  },
  {
   "cell_type": "markdown",
   "metadata": {},
   "source": [
    "Hit Reset Session > Restart, then resume with the following cells. "
   ]
  },
  {
   "cell_type": "code",
   "execution_count": 7,
   "metadata": {},
   "outputs": [],
   "source": [
    "from google.cloud import datastore\n",
    "datastore_client = datastore.Client()\n",
    "import csv"
   ]
  },
  {
   "cell_type": "code",
   "execution_count": 44,
   "metadata": {},
   "outputs": [
    {
     "name": "stdout",
     "output_type": "stream",
     "text": [
      "['show_id', 'type', 'title', 'director', 'cast', 'country', 'date_added', 'release_year', 'rating', 'duration', 'listed_in', 'description']\n",
      "<Entity('netflix', 's1') {'rating': 'TV-MA', 'show_id': 's1', 'release_year': '2020', 'title': '3%', 'country': 'Brazil', 'director': '', 'cast': 'Jo\\xc3\\xa3o Miguel, Bianca Comparato, Michel Gomes, Rodolfo Valente, Vaneza Oliveira, Rafael Lozano, Viviane Porto, Mel Fronckowiak, Sergio Mamberti, Zez\\xc3\\xa9 Motta, Celso Frateschi', 'listed_in': 'International TV Shows, TV Dramas, TV Sci-Fi & Fantasy', 'duration': '4 Seasons', 'date_added': 'August 14, 2020', 'type': 'TV Show', 'description': 'In a future where the elite inhabit an island paradise far from the crowded slums, you get one chance to join the 3% saved from squalor.'}>\n",
      "Saved s1: <Entity('netflix', 's1') {'rating': 'TV-MA', 'show_id': 's1', 'release_year': '2020', 'title': '3%', 'country': 'Brazil', 'director': '', 'cast': 'Jo\\xc3\\xa3o Miguel, Bianca Comparato, Michel Gomes, Rodolfo Valente, Vaneza Oliveira, Rafael Lozano, Viviane Porto, Mel Fronckowiak, Sergio Mamberti, Zez\\xc3\\xa9 Motta, Celso Frateschi', 'listed_in': 'International TV Shows, TV Dramas, TV Sci-Fi & Fantasy', 'duration': '4 Seasons', 'date_added': 'August 14, 2020', 'type': 'TV Show', 'description': 'In a future where the elite inhabit an island paradise far from the crowded slums, you get one chance to join the 3% saved from squalor.'}>\n",
      "<Entity('netflix', 's2') {'rating': 'TV-MA', 'show_id': 's2', 'release_year': '2016', 'title': '7:19', 'country': 'Mexico', 'director': 'Jorge Michel Grau', 'cast': 'Demi\\xc3\\xa1n Bichir, H\\xc3\\xa9ctor Bonilla, Oscar Serrano, Azalia Ortiz, Octavio Michel, Carmen Beato', 'listed_in': 'Dramas, International Movies', 'duration': '93 min', 'date_added': 'December 23, 2016', 'type': 'Movie', 'description': 'After a devastating earthquake hits Mexico City, trapped survivors from all walks of life wait to be rescued while trying desperately to stay alive.'}>\n",
      "Saved s2: <Entity('netflix', 's2') {'rating': 'TV-MA', 'show_id': 's2', 'release_year': '2016', 'title': '7:19', 'country': 'Mexico', 'director': 'Jorge Michel Grau', 'cast': 'Demi\\xc3\\xa1n Bichir, H\\xc3\\xa9ctor Bonilla, Oscar Serrano, Azalia Ortiz, Octavio Michel, Carmen Beato', 'listed_in': 'Dramas, International Movies', 'duration': '93 min', 'date_added': 'December 23, 2016', 'type': 'Movie', 'description': 'After a devastating earthquake hits Mexico City, trapped survivors from all walks of life wait to be rescued while trying desperately to stay alive.'}>\n",
      "<Entity('netflix', 's3') {'rating': 'R', 'show_id': 's3', 'release_year': '2011', 'title': '23:59', 'country': 'Singapore', 'director': 'Gilbert Chan', 'cast': 'Tedd Chan, Stella Chung, Henley Hii, Lawrence Koh, Tommy Kuan, Josh Lai, Mark Lee, Susan Leong, Benjamin Lim', 'listed_in': 'Horror Movies, International Movies', 'duration': '78 min', 'date_added': 'December 20, 2018', 'type': 'Movie', 'description': \"When an army recruit is found dead, his fellow soldiers are forced to confront a terrifying secret that's haunting their jungle island training camp.\"}>\n",
      "Saved s3: <Entity('netflix', 's3') {'rating': 'R', 'show_id': 's3', 'release_year': '2011', 'title': '23:59', 'country': 'Singapore', 'director': 'Gilbert Chan', 'cast': 'Tedd Chan, Stella Chung, Henley Hii, Lawrence Koh, Tommy Kuan, Josh Lai, Mark Lee, Susan Leong, Benjamin Lim', 'listed_in': 'Horror Movies, International Movies', 'duration': '78 min', 'date_added': 'December 20, 2018', 'type': 'Movie', 'description': \"When an army recruit is found dead, his fellow soldiers are forced to confront a terrifying secret that's haunting their jungle island training camp.\"}>\n",
      "\n",
      "\n",
      "[<Entity(u'netflix', u's1') {u'rating': 'TV-MA', u'show_id': 's1', u'description': 'In a future where the elite inhabit an island paradise far from the crowded slums, you get one chance to join the 3% saved from squalor.', u'title': '3%', u'country': 'Brazil', u'director': '', u'cast': 'Jo\\xc3\\xa3o Miguel, Bianca Comparato, Michel Gomes, Rodolfo Valente, Vaneza Oliveira, Rafael Lozano, Viviane Porto, Mel Fronckowiak, Sergio Mamberti, Zez\\xc3\\xa9 Motta, Celso Frateschi', u'listed_in': 'International TV Shows, TV Dramas, TV Sci-Fi & Fantasy', u'duration': '4 Seasons', u'date_added': 'August 14, 2020', u'type': 'TV Show', u'release_year': '2020'}>, <Entity(u'netflix', u's2') {u'rating': 'TV-MA', u'show_id': 's2', u'release_year': '2016', u'title': '7:19', u'country': 'Mexico', u'director': 'Jorge Michel Grau', u'cast': 'Demi\\xc3\\xa1n Bichir, H\\xc3\\xa9ctor Bonilla, Oscar Serrano, Azalia Ortiz, Octavio Michel, Carmen Beato', u'listed_in': 'Dramas, International Movies', u'duration': '93 min', u'date_added': 'December 23, 2016', u'type': 'Movie', u'description': 'After a devastating earthquake hits Mexico City, trapped survivors from all walks of life wait to be rescued while trying desperately to stay alive.'}>, <Entity(u'netflix', u's3') {u'rating': 'R', u'show_id': 's3', u'description': \"When an army recruit is found dead, his fellow soldiers are forced to confront a terrifying secret that's haunting their jungle island training camp.\", u'title': '23:59', u'country': 'Singapore', u'director': 'Gilbert Chan', u'cast': 'Tedd Chan, Stella Chung, Henley Hii, Lawrence Koh, Tommy Kuan, Josh Lai, Mark Lee, Susan Leong, Benjamin Lim', u'listed_in': 'Horror Movies, International Movies', u'duration': '78 min', u'date_added': 'December 20, 2018', u'type': 'Movie', u'release_year': '2011'}>]\n"
     ]
    }
   ],
   "source": [
    "with open('netflix_titles.csv') as csvfile:\n",
    "  csvreader = csv.reader(csvfile, delimiter=',', quotechar='\"')\n",
    "  line_count = 0\n",
    "  header=''\n",
    "  for row in csvreader:\n",
    "    if line_count == 0:\n",
    "      header = row\n",
    "      print header\n",
    "      line_count += 1\n",
    "      continue\n",
    "            \n",
    "    kind = 'netflix'\n",
    "    topic_key = datastore_client.key(kind, row[0])\n",
    "    topic = datastore.Entity(key=topic_key)\n",
    "    for i in range(len(header)):\n",
    "      topic[header[i]] = row[i]\n",
    "      \n",
    "    print topic\n",
    "    datastore_client.put(topic)\n",
    "    print('Saved {}: {}'.format(topic.key.name, topic))\n",
    "    line_count += 1\n",
    "    \n",
    "    #for dev and testing\n",
    "    if line_count == 4:\n",
    "      break\n",
    "      \n",
    "  #for validation\n",
    "  print \"\\n\"\n",
    "  query = datastore_client.query(kind='netflix')\n",
    "  results = list(query.fetch())\n",
    "  print results"
   ]
  },
  {
   "cell_type": "code",
   "execution_count": null,
   "metadata": {},
   "outputs": [],
   "source": []
  }
 ],
 "metadata": {
  "kernelspec": {
   "display_name": "Python 2",
   "language": "python",
   "name": "python2"
  },
  "language_info": {
   "codemirror_mode": {
    "name": "ipython",
    "version": 2
   },
   "file_extension": ".py",
   "mimetype": "text/x-python",
   "name": "python",
   "nbconvert_exporter": "python",
   "pygments_lexer": "ipython2",
   "version": "2.7.18"
  }
 },
 "nbformat": 4,
 "nbformat_minor": 2
}

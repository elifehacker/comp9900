{
 "cells": [
  {
   "cell_type": "code",
   "execution_count": 2,
   "metadata": {},
   "outputs": [
    {
     "name": "stdout",
     "output_type": "stream",
     "text": [
      "Requirement already up-to-date: google-cloud-datastore in /usr/local/envs/py2env/lib/python2.7/site-packages (1.15.3)\n",
      "Requirement already satisfied, skipping upgrade: google-cloud-core<2.0dev,>=1.4.0 in /usr/local/envs/py2env/lib/python2.7/site-packages (from google-cloud-datastore) (1.6.0)\n",
      "Requirement already satisfied, skipping upgrade: google-api-core[grpc]<2.0.0dev,>=1.14.0 in /usr/local/envs/py2env/lib/python2.7/site-packages (from google-cloud-datastore) (1.22.2)\n",
      "Requirement already satisfied, skipping upgrade: six>=1.12.0 in /usr/local/envs/py2env/lib/python2.7/site-packages (from google-cloud-core<2.0dev,>=1.4.0->google-cloud-datastore) (1.15.0)\n",
      "Requirement already satisfied, skipping upgrade: google-auth<2.0dev,>=1.24.0 in /usr/local/envs/py2env/lib/python2.7/site-packages (from google-cloud-core<2.0dev,>=1.4.0->google-cloud-datastore) (1.28.0)\n",
      "Requirement already satisfied, skipping upgrade: googleapis-common-protos<2.0dev,>=1.6.0 in /usr/local/envs/py2env/lib/python2.7/site-packages (from google-api-core[grpc]<2.0.0dev,>=1.14.0->google-cloud-datastore) (1.6.0)\n",
      "Requirement already satisfied, skipping upgrade: protobuf>=3.12.0 in /usr/local/envs/py2env/lib/python2.7/site-packages (from google-api-core[grpc]<2.0.0dev,>=1.14.0->google-cloud-datastore) (3.13.0)\n",
      "Requirement already satisfied, skipping upgrade: futures>=3.2.0; python_version < \"3.2\" in /usr/local/envs/py2env/lib/python2.7/site-packages (from google-api-core[grpc]<2.0.0dev,>=1.14.0->google-cloud-datastore) (3.2.0)\n",
      "Requirement already satisfied, skipping upgrade: pytz in /usr/local/envs/py2env/lib/python2.7/site-packages (from google-api-core[grpc]<2.0.0dev,>=1.14.0->google-cloud-datastore) (2018.4)\n",
      "Requirement already satisfied, skipping upgrade: setuptools>=34.0.0 in /usr/local/envs/py2env/lib/python2.7/site-packages (from google-api-core[grpc]<2.0.0dev,>=1.14.0->google-cloud-datastore) (44.0.0.post20200106)\n",
      "Requirement already satisfied, skipping upgrade: requests<3.0.0dev,>=2.18.0 in /usr/local/envs/py2env/lib/python2.7/site-packages (from google-api-core[grpc]<2.0.0dev,>=1.14.0->google-cloud-datastore) (2.18.4)\n",
      "Requirement already satisfied, skipping upgrade: grpcio<2.0dev,>=1.29.0; extra == \"grpc\" in /usr/local/envs/py2env/lib/python2.7/site-packages (from google-api-core[grpc]<2.0.0dev,>=1.14.0->google-cloud-datastore) (1.31.0)\n",
      "Requirement already satisfied, skipping upgrade: pyasn1-modules>=0.2.1 in /usr/local/envs/py2env/lib/python2.7/site-packages (from google-auth<2.0dev,>=1.24.0->google-cloud-core<2.0dev,>=1.4.0->google-cloud-datastore) (0.2.7)\n",
      "Requirement already satisfied, skipping upgrade: cachetools<5.0,>=2.0.0 in /usr/local/envs/py2env/lib/python2.7/site-packages (from google-auth<2.0dev,>=1.24.0->google-cloud-core<2.0dev,>=1.4.0->google-cloud-datastore) (3.1.1)\n",
      "Requirement already satisfied, skipping upgrade: rsa<4.6; python_version < \"3.6\" in /usr/local/envs/py2env/lib/python2.7/site-packages (from google-auth<2.0dev,>=1.24.0->google-cloud-core<2.0dev,>=1.4.0->google-cloud-datastore) (4.0)\n",
      "Requirement already satisfied, skipping upgrade: chardet<3.1.0,>=3.0.2 in /usr/local/envs/py2env/lib/python2.7/site-packages (from requests<3.0.0dev,>=2.18.0->google-api-core[grpc]<2.0.0dev,>=1.14.0->google-cloud-datastore) (3.0.4)\n",
      "Requirement already satisfied, skipping upgrade: idna<2.7,>=2.5 in /usr/local/envs/py2env/lib/python2.7/site-packages (from requests<3.0.0dev,>=2.18.0->google-api-core[grpc]<2.0.0dev,>=1.14.0->google-cloud-datastore) (2.6)\n",
      "Requirement already satisfied, skipping upgrade: urllib3<1.23,>=1.21.1 in /usr/local/envs/py2env/lib/python2.7/site-packages (from requests<3.0.0dev,>=2.18.0->google-api-core[grpc]<2.0.0dev,>=1.14.0->google-cloud-datastore) (1.22)\n",
      "Requirement already satisfied, skipping upgrade: certifi>=2017.4.17 in /usr/local/envs/py2env/lib/python2.7/site-packages (from requests<3.0.0dev,>=2.18.0->google-api-core[grpc]<2.0.0dev,>=1.14.0->google-cloud-datastore) (2019.11.28)\n",
      "Requirement already satisfied, skipping upgrade: enum34>=1.0.4 in /usr/local/envs/py2env/lib/python2.7/site-packages (from grpcio<2.0dev,>=1.29.0; extra == \"grpc\"->google-api-core[grpc]<2.0.0dev,>=1.14.0->google-cloud-datastore) (1.1.6)\n",
      "Requirement already satisfied, skipping upgrade: pyasn1<0.5.0,>=0.4.6 in /usr/local/envs/py2env/lib/python2.7/site-packages (from pyasn1-modules>=0.2.1->google-auth<2.0dev,>=1.24.0->google-cloud-core<2.0dev,>=1.4.0->google-cloud-datastore) (0.4.8)\n"
     ]
    }
   ],
   "source": [
    "!pip install --upgrade google-cloud-datastore"
   ]
  },
  {
   "cell_type": "code",
   "execution_count": 31,
   "metadata": {},
   "outputs": [
    {
     "name": "stdout",
     "output_type": "stream",
     "text": [
      "['id', 'fids']\n",
      "('row', ['1', '328'])\n",
      "('row', ['1', '234'])\n",
      "('row', ['1', '91'])\n",
      "('row', ['1', '592'])\n",
      "('row', ['1', '489'])\n",
      "('row', ['1', '356'])\n",
      "('row', ['1', '655'])\n",
      "('row', ['1', '130'])\n",
      "('row', ['1', '158'])\n",
      "('row', ['1', '256'])\n",
      "('row', ['2', '539'])\n",
      "('row', ['2', '654'])\n",
      "('row', ['2', '619'])\n",
      "('row', ['2', '77'])\n",
      "('row', ['2', '667'])\n",
      "('row', ['2', '81'])\n",
      "('row', ['2', '55'])\n",
      "('row', ['2', '155'])\n",
      "('row', ['2', '350'])\n",
      "('tempdict', {'1': [328, 234, 91, 592, 489, 356, 655, 130, 158, 256], '2': [539, 654, 619, 77, 667, 81, 55, 155, 350]})\n",
      "[<Entity(u'friends', 5918120044658688L) {u'fids': [539L, 654L, 619L, 77L, 667L, 81L, 55L, 155L, 350L], u'id': 2L}>, <Entity(u'friends', 6205318602162176L) {u'fids': [328L, 234L, 91L, 592L, 489L, 356L, 655L, 130L, 158L, 256L], u'id': 1L}>]\n"
     ]
    }
   ],
   "source": [
    "from google.cloud import datastore\n",
    "import csv\n",
    "\n",
    "datastore_client = datastore.Client()\n",
    "with open('Friends.csv') as csvfile:\n",
    "    csvreader = csv.reader(csvfile, delimiter=',', quotechar='\"')\n",
    "    line_count = 0\n",
    "    header=''\n",
    "    tempdict = dict()\n",
    "    for row in csvreader:\n",
    "        if line_count == 0:\n",
    "            header = row\n",
    "            print header\n",
    "            line_count += 1\n",
    "            continue\n",
    "            \n",
    "        kind = 'friends'\n",
    "        print('row',row)\n",
    "        if row[0] not in tempdict:\n",
    "            tempdict[row[0]] = list()\n",
    "        tempdict[row[0]].append(int(row[1]))\n",
    "        line_count += 1\n",
    "        #for dev and testing\n",
    "        if line_count == 20:\n",
    "            break\n",
    "            \n",
    "    print(\"tempdict\", tempdict)\n",
    "    \n",
    "    for k in tempdict.keys():\n",
    "        with datastore_client.transaction():\n",
    "            incomplete_key = datastore_client.key(\"friends\")\n",
    "            task = datastore.Entity(key=incomplete_key)\n",
    "            task.update(\n",
    "                {\n",
    "                    \"id\": int(k),\n",
    "                    \"fids\": tempdict[k],\n",
    "                }\n",
    "            )\n",
    "            datastore_client.put(task)\n",
    "    \n",
    "    #for validation\n",
    "    query = datastore_client.query(kind='friends')\n",
    "    results = list(query.fetch())\n",
    "    print results"
   ]
  },
  {
   "cell_type": "code",
   "execution_count": null,
   "metadata": {},
   "outputs": [],
   "source": []
  }
 ],
 "metadata": {
  "kernelspec": {
   "display_name": "Python 2",
   "language": "python",
   "name": "python2"
  },
  "language_info": {
   "codemirror_mode": {
    "name": "ipython",
    "version": 2
   },
   "file_extension": ".py",
   "mimetype": "text/x-python",
   "name": "python",
   "nbconvert_exporter": "python",
   "pygments_lexer": "ipython2",
   "version": "2.7.18"
  }
 },
 "nbformat": 4,
 "nbformat_minor": 4
}

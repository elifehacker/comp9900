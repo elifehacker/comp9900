{
 "cells": [
  {
   "cell_type": "code",
   "execution_count": 1,
   "metadata": {},
   "outputs": [
    {
     "name": "stdout",
     "output_type": "stream",
     "text": [
      "Collecting google-cloud-datastore\n",
      "  Using cached https://files.pythonhosted.org/packages/b8/6c/bedcab39e8dc969f7a48d058dbacd69fc07ce3f817a03de875902016f667/google_cloud_datastore-1.15.3-py2.py3-none-any.whl\n",
      "Collecting google-cloud-core<2.0dev,>=1.4.0 (from google-cloud-datastore)\n",
      "  Using cached https://files.pythonhosted.org/packages/ad/fc/6e8c449185cb8862af353c1164100ff75e32d55ba1de3baf9eaa01b7d2a9/google_cloud_core-1.6.0-py2.py3-none-any.whl\n",
      "Requirement already satisfied, skipping upgrade: google-api-core[grpc]<2.0.0dev,>=1.14.0 in /usr/local/envs/py2env/lib/python2.7/site-packages (from google-cloud-datastore) (1.22.2)\n",
      "Collecting six>=1.12.0 (from google-cloud-core<2.0dev,>=1.4.0->google-cloud-datastore)\n",
      "  Using cached https://files.pythonhosted.org/packages/ee/ff/48bde5c0f013094d729fe4b0316ba2a24774b3ff1c52d924a8a4cb04078a/six-1.15.0-py2.py3-none-any.whl\n",
      "Collecting google-auth<2.0dev,>=1.24.0 (from google-cloud-core<2.0dev,>=1.4.0->google-cloud-datastore)\n",
      "  Using cached https://files.pythonhosted.org/packages/6c/13/c5ed31377b620158a487c5851343d3a59065954f83a34223c9b9087f7b8d/google_auth-1.28.1-py2.py3-none-any.whl\n",
      "Requirement already satisfied, skipping upgrade: googleapis-common-protos<2.0dev,>=1.6.0 in /usr/local/envs/py2env/lib/python2.7/site-packages (from google-api-core[grpc]<2.0.0dev,>=1.14.0->google-cloud-datastore) (1.6.0)\n",
      "Requirement already satisfied, skipping upgrade: protobuf>=3.12.0 in /usr/local/envs/py2env/lib/python2.7/site-packages (from google-api-core[grpc]<2.0.0dev,>=1.14.0->google-cloud-datastore) (3.13.0)\n",
      "Requirement already satisfied, skipping upgrade: futures>=3.2.0; python_version < \"3.2\" in /usr/local/envs/py2env/lib/python2.7/site-packages (from google-api-core[grpc]<2.0.0dev,>=1.14.0->google-cloud-datastore) (3.2.0)\n",
      "Requirement already satisfied, skipping upgrade: pytz in /usr/local/envs/py2env/lib/python2.7/site-packages (from google-api-core[grpc]<2.0.0dev,>=1.14.0->google-cloud-datastore) (2018.4)\n",
      "Requirement already satisfied, skipping upgrade: setuptools>=34.0.0 in /usr/local/envs/py2env/lib/python2.7/site-packages (from google-api-core[grpc]<2.0.0dev,>=1.14.0->google-cloud-datastore) (44.0.0.post20200106)\n",
      "Requirement already satisfied, skipping upgrade: requests<3.0.0dev,>=2.18.0 in /usr/local/envs/py2env/lib/python2.7/site-packages (from google-api-core[grpc]<2.0.0dev,>=1.14.0->google-cloud-datastore) (2.18.4)\n",
      "Requirement already satisfied, skipping upgrade: grpcio<2.0dev,>=1.29.0; extra == \"grpc\" in /usr/local/envs/py2env/lib/python2.7/site-packages (from google-api-core[grpc]<2.0.0dev,>=1.14.0->google-cloud-datastore) (1.31.0)\n",
      "Requirement already satisfied, skipping upgrade: pyasn1-modules>=0.2.1 in /usr/local/envs/py2env/lib/python2.7/site-packages (from google-auth<2.0dev,>=1.24.0->google-cloud-core<2.0dev,>=1.4.0->google-cloud-datastore) (0.2.7)\n",
      "Requirement already satisfied, skipping upgrade: cachetools<5.0,>=2.0.0 in /usr/local/envs/py2env/lib/python2.7/site-packages (from google-auth<2.0dev,>=1.24.0->google-cloud-core<2.0dev,>=1.4.0->google-cloud-datastore) (3.1.1)\n",
      "Requirement already satisfied, skipping upgrade: rsa<4.6; python_version < \"3.6\" in /usr/local/envs/py2env/lib/python2.7/site-packages (from google-auth<2.0dev,>=1.24.0->google-cloud-core<2.0dev,>=1.4.0->google-cloud-datastore) (4.0)\n",
      "Requirement already satisfied, skipping upgrade: chardet<3.1.0,>=3.0.2 in /usr/local/envs/py2env/lib/python2.7/site-packages (from requests<3.0.0dev,>=2.18.0->google-api-core[grpc]<2.0.0dev,>=1.14.0->google-cloud-datastore) (3.0.4)\n",
      "Requirement already satisfied, skipping upgrade: idna<2.7,>=2.5 in /usr/local/envs/py2env/lib/python2.7/site-packages (from requests<3.0.0dev,>=2.18.0->google-api-core[grpc]<2.0.0dev,>=1.14.0->google-cloud-datastore) (2.6)\n",
      "Requirement already satisfied, skipping upgrade: urllib3<1.23,>=1.21.1 in /usr/local/envs/py2env/lib/python2.7/site-packages (from requests<3.0.0dev,>=2.18.0->google-api-core[grpc]<2.0.0dev,>=1.14.0->google-cloud-datastore) (1.22)\n",
      "Requirement already satisfied, skipping upgrade: certifi>=2017.4.17 in /usr/local/envs/py2env/lib/python2.7/site-packages (from requests<3.0.0dev,>=2.18.0->google-api-core[grpc]<2.0.0dev,>=1.14.0->google-cloud-datastore) (2019.11.28)\n",
      "Requirement already satisfied, skipping upgrade: enum34>=1.0.4 in /usr/local/envs/py2env/lib/python2.7/site-packages (from grpcio<2.0dev,>=1.29.0; extra == \"grpc\"->google-api-core[grpc]<2.0.0dev,>=1.14.0->google-cloud-datastore) (1.1.6)\n",
      "Requirement already satisfied, skipping upgrade: pyasn1<0.5.0,>=0.4.6 in /usr/local/envs/py2env/lib/python2.7/site-packages (from pyasn1-modules>=0.2.1->google-auth<2.0dev,>=1.24.0->google-cloud-core<2.0dev,>=1.4.0->google-cloud-datastore) (0.4.8)\n",
      "\u001b[31mpandas-gbq 0.3.0 has requirement google-cloud-bigquery>=0.28.0, but you'll have google-cloud-bigquery 0.23.0 which is incompatible.\u001b[0m\n",
      "\u001b[31mgoogle-cloud-bigquery 0.23.0 has requirement google-cloud-core<0.24dev,>=0.23.1, but you'll have google-cloud-core 1.6.0 which is incompatible.\u001b[0m\n",
      "\u001b[31mtensorboard 1.8.0 has requirement bleach==1.5.0, but you'll have bleach 2.1.2 which is incompatible.\u001b[0m\n",
      "\u001b[31mtensorboard 1.8.0 has requirement html5lib==0.9999999, but you'll have html5lib 1.1 which is incompatible.\u001b[0m\n",
      "Installing collected packages: six, google-auth, google-cloud-core, google-cloud-datastore\n",
      "  Found existing installation: six 1.10.0\n",
      "    Uninstalling six-1.10.0:\n",
      "      Successfully uninstalled six-1.10.0\n",
      "  Found existing installation: google-auth 1.21.1\n",
      "    Uninstalling google-auth-1.21.1:\n",
      "      Successfully uninstalled google-auth-1.21.1\n",
      "  Found existing installation: google-cloud-core 0.28.1\n",
      "    Uninstalling google-cloud-core-0.28.1:\n",
      "      Successfully uninstalled google-cloud-core-0.28.1\n",
      "Successfully installed google-auth-1.28.1 google-cloud-core-1.6.0 google-cloud-datastore-1.15.3 six-1.15.0\n"
     ]
    }
   ],
   "source": [
    "!pip install --upgrade google-cloud-datastore"
   ]
  },
  {
   "cell_type": "code",
   "execution_count": 3,
   "metadata": {},
   "outputs": [
    {
     "name": "stdout",
     "output_type": "stream",
     "text": [
      "['userId', 'fid']\n",
      "('row', ['1', '328'])\n",
      "('row', ['1', '234'])\n",
      "('row', ['1', '91'])\n",
      "('row', ['1', '592'])\n",
      "('row', ['1', '489'])\n",
      "('row', ['1', '356'])\n",
      "('row', ['1', '655'])\n",
      "('row', ['1', '130'])\n",
      "('row', ['1', '158'])\n",
      "('row', ['1', '256'])\n",
      "('row', ['2', '539'])\n",
      "('row', ['2', '654'])\n",
      "('row', ['2', '619'])\n",
      "('row', ['2', '77'])\n",
      "('row', ['2', '667'])\n",
      "('row', ['2', '81'])\n",
      "('row', ['2', '55'])\n",
      "('row', ['2', '155'])\n",
      "('row', ['2', '350'])\n",
      "('tempdict', {'1': [328, 234, 91, 592, 489, 356, 655, 130, 158, 256], '2': [539, 654, 619, 77, 667, 81, 55, 155, 350]})\n",
      "[<Entity(u'friends', 5714489739575296L) {u'fids': [328L, 234L, 91L, 592L, 489L, 356L, 655L, 130L, 158L, 256L], u'id': '1'}>, <Entity(u'friends', 6228623363145728L) {u'fids': [539L, 654L, 619L, 77L, 667L, 81L, 55L, 155L, 350L], u'id': '2'}>]\n"
     ]
    }
   ],
   "source": [
    "from google.cloud import datastore\n",
    "import csv\n",
    "\n",
    "datastore_client = datastore.Client()\n",
    "with open('Friends.csv') as csvfile:\n",
    "    csvreader = csv.reader(csvfile, delimiter=',', quotechar='\"')\n",
    "    line_count = 0\n",
    "    header=''\n",
    "    tempdict = dict()\n",
    "    for row in csvreader:\n",
    "        if line_count == 0:\n",
    "            header = row\n",
    "            print header\n",
    "            line_count += 1\n",
    "            continue\n",
    "            \n",
    "        kind = 'friends'\n",
    "        print('row',row)\n",
    "        if row[0] not in tempdict:\n",
    "            tempdict[row[0]] = list()\n",
    "        tempdict[row[0]].append(int(row[1]))\n",
    "        line_count += 1\n",
    "        #for dev and testing\n",
    "        if line_count == 20:\n",
    "            break\n",
    "            \n",
    "    print(\"tempdict\", tempdict)\n",
    "    \n",
    "    for k in tempdict.keys():\n",
    "        with datastore_client.transaction():\n",
    "            incomplete_key = datastore_client.key(\"friends\")\n",
    "            task = datastore.Entity(key=incomplete_key)\n",
    "            task.update(\n",
    "                {\n",
    "                    \"id\": k,\n",
    "                    \"fids\": tempdict[k],\n",
    "                }\n",
    "            )\n",
    "            datastore_client.put(task)\n",
    "    \n",
    "    #for validation\n",
    "    query = datastore_client.query(kind='friends')\n",
    "    results = list(query.fetch())\n",
    "    print results"
   ]
  },
  {
   "cell_type": "code",
   "execution_count": null,
   "metadata": {},
   "outputs": [],
   "source": []
  }
 ],
 "metadata": {
  "kernelspec": {
   "display_name": "Python 2",
   "language": "python",
   "name": "python2"
  },
  "language_info": {
   "codemirror_mode": {
    "name": "ipython",
    "version": 2
   },
   "file_extension": ".py",
   "mimetype": "text/x-python",
   "name": "python",
   "nbconvert_exporter": "python",
   "pygments_lexer": "ipython2",
   "version": "2.7.18"
  }
 },
 "nbformat": 4,
 "nbformat_minor": 4
}

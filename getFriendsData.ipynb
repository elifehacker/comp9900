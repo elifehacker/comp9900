{
 "cells": [
  {
   "cell_type": "code",
   "execution_count": 27,
   "metadata": {},
   "outputs": [
    {
     "name": "stdout",
     "output_type": "stream",
     "text": [
      "      userId  fid\n",
      "0          1  328\n",
      "1          1  234\n",
      "2          1   91\n",
      "3          1  592\n",
      "4          1  489\n",
      "...      ...  ...\n",
      "6705     671  437\n",
      "6706     671   19\n",
      "6707     671  232\n",
      "6708     671  640\n",
      "6709     671   95\n",
      "\n",
      "[6710 rows x 2 columns]\n"
     ]
    }
   ],
   "source": [
    "import pandas as pd\n",
    "import random\n",
    "import copy\n",
    "\n",
    "#random.randint(1,671)\n",
    "fd = {}\n",
    "flist = []\n",
    "for i in range(1,672):\n",
    "    templist = []\n",
    "    while len(templist) < 10:\n",
    "        fd[\"userId\"] = i\n",
    "        fid = random.randint(1,671)\n",
    "        if fid not in templist and fid != i:\n",
    "            templist.append(fid)\n",
    "            fd[\"fid\"] = fid\n",
    "            fd2 = fd.copy\n",
    "            flist.append(copy.deepcopy(fd))\n",
    "df = pd.DataFrame(flist,columns=[\"userId\",\"fid\"])\n",
    "print(df)\n",
    "df.to_csv(\"Friends.csv\",index=False)\n",
    "#print(flist) "
   ]
  },
  {
   "cell_type": "code",
   "execution_count": 3,
   "metadata": {},
   "outputs": [
    {
     "data": {
      "text/plain": [
       "316"
      ]
     },
     "execution_count": 3,
     "metadata": {},
     "output_type": "execute_result"
    }
   ],
   "source": [
    "import random\n",
    "random.randint(1,671)"
   ]
  },
  {
   "cell_type": "code",
   "execution_count": null,
   "metadata": {},
   "outputs": [],
   "source": []
  }
 ],
 "metadata": {
  "kernelspec": {
   "display_name": "Python 3",
   "language": "python",
   "name": "python3"
  },
  "language_info": {
   "codemirror_mode": {
    "name": "ipython",
    "version": 3
   },
   "file_extension": ".py",
   "mimetype": "text/x-python",
   "name": "python",
   "nbconvert_exporter": "python",
   "pygments_lexer": "ipython3",
   "version": "3.7.7"
  }
 },
 "nbformat": 4,
 "nbformat_minor": 4
}
